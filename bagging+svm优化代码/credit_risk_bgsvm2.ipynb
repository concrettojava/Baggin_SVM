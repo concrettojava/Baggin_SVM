{
 "cells": [
  {
   "cell_type": "code",
   "execution_count": 39,
   "id": "de62db7f",
   "metadata": {},
   "outputs": [],
   "source": [
    "from sklearn.ensemble import BaggingClassifier\n",
    "from sklearn.svm import SVC\n",
    "from sklearn.metrics import accuracy_score,recall_score, precision_score, f1_score\n",
    "from sklearn.model_selection import train_test_split\n",
    "import numpy as np\n",
    "import pandas as pd\n",
    "import matplotlib.pyplot as plt\n",
    "from sklearn.preprocessing import StandardScaler\n",
    "from sklearn.metrics import confusion_matrix,recall_score\n",
    "import itertools\n",
    "from sklearn.metrics import confusion_matrix\n",
    "from imblearn.over_sampling import SMOTE\n",
    "import seaborn as sns\n",
    "from sklearn.metrics import roc_curve, auc\n",
    "from sklearn.metrics import classification_report"
   ]
  },
  {
   "cell_type": "code",
   "execution_count": 40,
   "id": "7a0d1443",
   "metadata": {},
   "outputs": [],
   "source": [
    "\n",
    "#数据导入与查看\n",
    "data=pd.read_csv(\"./credit_risk_small_data.csv\")\n",
    "# print(data.head())\n",
    "# print(data.info)\n",
    "# print(data1.info)"
   ]
  },
  {
   "cell_type": "code",
   "execution_count": 41,
   "id": "e0cf5244",
   "metadata": {},
   "outputs": [
    {
     "name": "stdout",
     "output_type": "stream",
     "text": [
      "Index(['Delinquency', 'Revolving Credit Percentage', 'Capital Reserves',\n",
      "       'Num Late 60', 'Debt Ratio', 'Monthly Income', 'Num Credit Lines',\n",
      "       'Num Late Past 90', 'Num Real Estate', 'Num Late 90', 'Num Employees'],\n",
      "      dtype='object')\n"
     ]
    }
   ],
   "source": [
    "#初步查看数据\n",
    "print(data.keys())"
   ]
  },
  {
   "cell_type": "code",
   "execution_count": 42,
   "id": "a589aafd",
   "metadata": {},
   "outputs": [],
   "source": [
    "# #进一步查看感兴趣的数据\n",
    "# features_of_interest=[\"Revolving Credit Percentage\",\"Debt Ratio\",\"Capital Reserves\",\"Num Late 60\",\"Monthly Income\",\"Num Credit Lines\",\"Num Late Past 90\",\"Num Real Estate\",\"Num Late 90\",\"Num Employees\"]\n",
    "# data[features_of_interest].describe()"
   ]
  },
  {
   "cell_type": "code",
   "execution_count": 43,
   "id": "f0a40aaf",
   "metadata": {},
   "outputs": [],
   "source": [
    "# #去离群值\n",
    "# data[\"Revolving Credit Percentage\"]=np.minimum(data[\"Revolving Credit Percentage\"],10)\n",
    "# print(data[\"Revolving Credit Percentage\"].describe())\n",
    "# data[\"Debt Ratio\"]=np.minimum(data[\"Debt Ratio\"],25)\n",
    "# print(data[\"Debt Ratio\"].describe())\n",
    "# data[\"Capital Reserves\"]=np.minimum(data[\"Capital Reserves\"],90)\n",
    "# print(data[\"Capital Reserves\"].describe())\n",
    "# data[\"Num Late 60\"]=np.minimum(data[\"Num Late 60\"],5)\n",
    "# print(data[\"Num Late 60\"].describe())\n",
    "# data[\"Monthly Income\"]=np.minimum(data[\"Monthly Income\"],100000)\n",
    "# print(data[\"Monthly Income\"].describe())\n",
    "# data[\"Num Credit Lines\"]=np.minimum(data[\"Num Credit Lines\"],30)\n",
    "# print(data[\"Num Credit Lines\"].describe())\n",
    "# data[\"Num Late Past 90\"]=np.minimum(data[\"Num Late Past 90\"],5)\n",
    "# print(data[\"Num Late Past 90\"].describe())\n",
    "# data[\"Num Real Estate\"]=np.minimum(data[\"Num Real Estate\"],7)\n",
    "# print(data[\"Num Real Estate\"].describe())\n",
    "# data[\"Num Late 90\"]=np.minimum(data[\"Num Late 90\"],7)\n",
    "# print(data[\"Num Late 90\"].describe())\n",
    "# data[\"Num Employees\"]=np.minimum(data[\"Num Employees\"],5)\n",
    "# print(data[\"Num Employees\"].describe())"
   ]
  },
  {
   "cell_type": "code",
   "execution_count": 44,
   "id": "cab045c4",
   "metadata": {},
   "outputs": [],
   "source": [
    "# #查看数据相关性\n",
    "# sns.scatterplot(data=data,x=\"Revolving Credit Percentage\",y=\"Debt Ratio\",size=\"Delinquency\",hue=\"Delinquency\",palette=\"viridis\",alpha=0.5)\n",
    "# plt.legend(title=\"Delinquency\",bbox_to_anchor=(1.05,1),loc=\"upper left\")\n",
    "# plt.show()"
   ]
  },
  {
   "cell_type": "code",
   "execution_count": 45,
   "id": "b0d2ca46",
   "metadata": {},
   "outputs": [
    {
     "data": {
      "image/png": "[encoded data removed]",
      "text/plain": [
       "<Figure size 640x480 with 1 Axes>"
      ]
     },
     "metadata": {},
     "output_type": "display_data"
    }
   ],
   "source": [
    "#查看标签分布\n",
    "count_classes=pd.value_counts(data['Delinquency'],sort=True).sort_index()\n",
    "count_classes.plot(kind='bar')\n",
    "plt.title(\"class distrbution\")\n",
    "plt.xlabel(\"class\")\n",
    "plt.ylabel(\"frequency\")\n",
    "plt.show()"
   ]
  },
  {
   "cell_type": "code",
   "execution_count": 46,
   "id": "5e6f083c",
   "metadata": {},
   "outputs": [],
   "source": [
    "# #数据标准化处理\n",
    "data['Capital Reserves']=StandardScaler().fit_transform(data['Capital Reserves'].values.reshape(-1,1))\n",
    "data['Monthly Income']=StandardScaler().fit_transform(data['Monthly Income'].values.reshape(-1,1))\n",
    "# data['Num Credit Lines']=StandardScaler().fit_transform(data['Num Credit Lines'].values.reshape(-1,1))\n",
    "# data['Num Late Past 90']=StandardScaler().fit_transform(data['Num Late Past 90'].values.reshape(-1,1))\n",
    "# data['Num Real Estate']=StandardScaler().fit_transform(data['Num Real Estate'].values.reshape(-1,1))\n",
    "# data['Num Late 90']=StandardScaler().fit_transform(data['Num Late 90'].values.reshape(-1,1))\n",
    "# data['Num Employees']=StandardScaler().fit_transform(data['Num Employees'].values.reshape(-1,1))\n",
    "# # print(data['normI'].head())"
   ]
  },
  {
   "cell_type": "code",
   "execution_count": 47,
   "id": "5f698b4a",
   "metadata": {},
   "outputs": [],
   "source": [
    "# # 保存为CSV文件\n",
    "# np.savetxt('output_2048.csv', data, delimiter=',')"
   ]
  },
  {
   "cell_type": "code",
   "execution_count": 48,
   "id": "855457dc",
   "metadata": {},
   "outputs": [],
   "source": [
    "X=data.iloc[:,data.columns!='Delinquency']\n",
    "# X=data.iloc[:,1:]\n",
    "# X=X.iloc[:,X.columns!='Debt Ratio']\n",
    "# # X=X.iloc[:,X.columns!='Capital Reserves']\n",
    "y=data.iloc[:,data.columns=='Delinquency']"
   ]
  },
  {
   "cell_type": "code",
   "execution_count": 49,
   "id": "0362ff58",
   "metadata": {},
   "outputs": [],
   "source": [
    "#整个数据集进行划分\n",
    "X_train, X_test, y_train, y_test = train_test_split(X, y, test_size=0.2, random_state=42)"
   ]
  },
  {
   "cell_type": "code",
   "execution_count": 50,
   "id": "0cde4cb0",
   "metadata": {},
   "outputs": [],
   "source": [
    "#上采样\n",
    "oversampler=SMOTE(random_state=0)\n",
    "X_train,y_train=oversampler.fit_resample(X_train,y_train)"
   ]
  },
  {
   "cell_type": "code",
   "execution_count": 51,
   "id": "a4262d49",
   "metadata": {},
   "outputs": [],
   "source": [
    "# 以使用imblearn进行随机过采样为例\n",
    "# from imblearn.over_sampling import RandomOverSampler\n",
    "# ros = RandomOverSampler(random_state=0)\n",
    "# X_resampled, y_resampled = ros.fit_resample(X_train, y_train)\n",
    "# 查看结果\n",
    "# Counter(y_resampled) \n",
    "# 过采样后样本结果Counter({2: 4674, 1: 4674, 0: 4674})各类样本数相同\n",
    "# X_train,X_test,y_train,y_test=train_test_split(X_resampled,y_resampled,random_state=0)"
   ]
  },
  {
   "cell_type": "code",
   "execution_count": 52,
   "id": "4c87169c",
   "metadata": {},
   "outputs": [
    {
     "data": {
      "image/png": "[encoded data removed]",
      "text/plain": [
       "<Figure size 640x480 with 1 Axes>"
      ]
     },
     "metadata": {},
     "output_type": "display_data"
    }
   ],
   "source": [
    "# 查看标签分布\n",
    "count_classes=pd.value_counts(y_train['Delinquency'],sort=True).sort_index()\n",
    "count_classes.plot(kind='bar')\n",
    "plt.title(\"class distrbution\")\n",
    "plt.xlabel(\"class\")\n",
    "plt.ylabel(\"frequency\")\n",
    "plt.show()"
   ]
  },
  {
   "cell_type": "code",
   "execution_count": 53,
   "id": "57da9486",
   "metadata": {},
   "outputs": [
    {
     "data": {
      "text/html": [
       "<div>\n",
       "<style scoped>\n",
       "    .dataframe tbody tr th:only-of-type {\n",
       "        vertical-align: middle;\n",
       "    }\n",
       "\n",
       "    .dataframe tbody tr th {\n",
       "        vertical-align: top;\n",
       "    }\n",
       "\n",
       "    .dataframe thead th {\n",
       "        text-align: right;\n",
       "    }\n",
       "</style>\n",
       "<table border=\"1\" class=\"dataframe\">\n",
       "  <thead>\n",
       "    <tr style=\"text-align: right;\">\n",
       "      <th></th>\n",
       "      <th>Revolving Credit Percentage</th>\n",
       "      <th>Capital Reserves</th>\n",
       "      <th>Num Late 60</th>\n",
       "      <th>Debt Ratio</th>\n",
       "      <th>Monthly Income</th>\n",
       "      <th>Num Credit Lines</th>\n",
       "      <th>Num Late Past 90</th>\n",
       "      <th>Num Real Estate</th>\n",
       "      <th>Num Late 90</th>\n",
       "      <th>Num Employees</th>\n",
       "    </tr>\n",
       "  </thead>\n",
       "  <tbody>\n",
       "    <tr>\n",
       "      <th>count</th>\n",
       "      <td>3608.000000</td>\n",
       "      <td>3608.000000</td>\n",
       "      <td>3608.000000</td>\n",
       "      <td>3608.000000</td>\n",
       "      <td>3608.000000</td>\n",
       "      <td>3608.000000</td>\n",
       "      <td>3608.000000</td>\n",
       "      <td>3608.000000</td>\n",
       "      <td>3608.000000</td>\n",
       "      <td>3608.000000</td>\n",
       "    </tr>\n",
       "    <tr>\n",
       "      <th>mean</th>\n",
       "      <td>5.049609</td>\n",
       "      <td>-0.183362</td>\n",
       "      <td>2.007761</td>\n",
       "      <td>15.985373</td>\n",
       "      <td>-0.101149</td>\n",
       "      <td>8.220344</td>\n",
       "      <td>1.750277</td>\n",
       "      <td>0.840909</td>\n",
       "      <td>1.632761</td>\n",
       "      <td>0.795455</td>\n",
       "    </tr>\n",
       "    <tr>\n",
       "      <th>std</th>\n",
       "      <td>90.578089</td>\n",
       "      <td>0.899280</td>\n",
       "      <td>11.775482</td>\n",
       "      <td>166.899158</td>\n",
       "      <td>0.798364</td>\n",
       "      <td>5.295688</td>\n",
       "      <td>11.769715</td>\n",
       "      <td>1.123468</td>\n",
       "      <td>11.755956</td>\n",
       "      <td>1.069921</td>\n",
       "    </tr>\n",
       "    <tr>\n",
       "      <th>min</th>\n",
       "      <td>0.000000</td>\n",
       "      <td>-2.031485</td>\n",
       "      <td>0.000000</td>\n",
       "      <td>0.000000</td>\n",
       "      <td>-1.063454</td>\n",
       "      <td>0.000000</td>\n",
       "      <td>0.000000</td>\n",
       "      <td>0.000000</td>\n",
       "      <td>0.000000</td>\n",
       "      <td>0.000000</td>\n",
       "    </tr>\n",
       "    <tr>\n",
       "      <th>25%</th>\n",
       "      <td>0.119146</td>\n",
       "      <td>-0.854346</td>\n",
       "      <td>0.000000</td>\n",
       "      <td>0.139553</td>\n",
       "      <td>-0.500337</td>\n",
       "      <td>4.000000</td>\n",
       "      <td>0.000000</td>\n",
       "      <td>0.000000</td>\n",
       "      <td>0.000000</td>\n",
       "      <td>0.000000</td>\n",
       "    </tr>\n",
       "    <tr>\n",
       "      <th>50%</th>\n",
       "      <td>0.541471</td>\n",
       "      <td>-0.214109</td>\n",
       "      <td>0.000000</td>\n",
       "      <td>0.324680</td>\n",
       "      <td>-0.244891</td>\n",
       "      <td>8.000000</td>\n",
       "      <td>0.000000</td>\n",
       "      <td>1.000000</td>\n",
       "      <td>0.000000</td>\n",
       "      <td>0.000000</td>\n",
       "    </tr>\n",
       "    <tr>\n",
       "      <th>75%</th>\n",
       "      <td>0.892493</td>\n",
       "      <td>0.351827</td>\n",
       "      <td>1.000000</td>\n",
       "      <td>0.532536</td>\n",
       "      <td>0.080499</td>\n",
       "      <td>11.000000</td>\n",
       "      <td>0.000000</td>\n",
       "      <td>1.000000</td>\n",
       "      <td>0.000000</td>\n",
       "      <td>1.000000</td>\n",
       "    </tr>\n",
       "    <tr>\n",
       "      <th>max</th>\n",
       "      <td>3677.000000</td>\n",
       "      <td>3.007517</td>\n",
       "      <td>98.000000</td>\n",
       "      <td>3102.000000</td>\n",
       "      <td>18.243424</td>\n",
       "      <td>42.000000</td>\n",
       "      <td>98.000000</td>\n",
       "      <td>19.000000</td>\n",
       "      <td>98.000000</td>\n",
       "      <td>7.000000</td>\n",
       "    </tr>\n",
       "  </tbody>\n",
       "</table>\n",
       "</div>"
      ],
      "text/plain": [
       "       Revolving Credit Percentage  Capital Reserves  Num Late 60  \\\n",
       "count                  3608.000000       3608.000000  3608.000000   \n",
       "mean                      5.049609         -0.183362     2.007761   \n",
       "std                      90.578089          0.899280    11.775482   \n",
       "min                       0.000000         -2.031485     0.000000   \n",
       "25%                       0.119146         -0.854346     0.000000   \n",
       "50%                       0.541471         -0.214109     0.000000   \n",
       "75%                       0.892493          0.351827     1.000000   \n",
       "max                    3677.000000          3.007517    98.000000   \n",
       "\n",
       "        Debt Ratio  Monthly Income  Num Credit Lines  Num Late Past 90  \\\n",
       "count  3608.000000     3608.000000       3608.000000       3608.000000   \n",
       "mean     15.985373       -0.101149          8.220344          1.750277   \n",
       "std     166.899158        0.798364          5.295688         11.769715   \n",
       "min       0.000000       -1.063454          0.000000          0.000000   \n",
       "25%       0.139553       -0.500337          4.000000          0.000000   \n",
       "50%       0.324680       -0.244891          8.000000          0.000000   \n",
       "75%       0.532536        0.080499         11.000000          0.000000   \n",
       "max    3102.000000       18.243424         42.000000         98.000000   \n",
       "\n",
       "       Num Real Estate  Num Late 90  Num Employees  \n",
       "count      3608.000000  3608.000000    3608.000000  \n",
       "mean          0.840909     1.632761       0.795455  \n",
       "std           1.123468    11.755956       1.069921  \n",
       "min           0.000000     0.000000       0.000000  \n",
       "25%           0.000000     0.000000       0.000000  \n",
       "50%           1.000000     0.000000       0.000000  \n",
       "75%           1.000000     0.000000       1.000000  \n",
       "max          19.000000    98.000000       7.000000  "
      ]
     },
     "execution_count": 53,
     "metadata": {},
     "output_type": "execute_result"
    }
   ],
   "source": [
    "#进一步查看感兴趣的数据\n",
    "X_train.describe()"
   ]
  },
  {
   "cell_type": "code",
   "execution_count": 54,
   "id": "97a051d5",
   "metadata": {},
   "outputs": [],
   "source": [
    "X_train = np.array(X_train,type(float))"
   ]
  },
  {
   "cell_type": "code",
   "execution_count": 55,
   "id": "0aa1a111",
   "metadata": {},
   "outputs": [],
   "source": [
    "#去离群值\n",
    "X_train [:,0]=np.minimum(X_train[:,0],232)\n",
    "X_train [:,1]=np.minimum(X_train[:,1],2)\n",
    "X_train [:,2]=np.minimum(X_train[:,2],22.2)\n",
    "X_train [:,3]=np.minimum(X_train[:,3],280)\n",
    "X_train [:,4]=np.minimum(X_train[:,4],2)\n",
    "X_train [:,5]=np.minimum(X_train[:,5],20)\n",
    "X_train [:,6]=np.minimum(X_train[:,6],22)\n",
    "X_train [:,7]=np.minimum(X_train[:,7],3)\n",
    "X_train [:,8]=np.minimum(X_train[:,8],22)\n",
    "X_train [:,9]=np.minimum(X_train[:,9],5)\n"
   ]
  },
  {
   "cell_type": "code",
   "execution_count": 56,
   "id": "5e225d4d",
   "metadata": {},
   "outputs": [
    {
     "name": "stderr",
     "output_type": "stream",
     "text": [
      "C:\\Users\\20450\\AppData\\Local\\Programs\\Python\\Python310\\lib\\site-packages\\sklearn\\ensemble\\_bagging.py:760: DataConversionWarning: A column-vector y was passed when a 1d array was expected. Please change the shape of y to (n_samples, ), for example using ravel().\n",
      "  y = column_or_1d(y, warn=True)\n",
      "C:\\Users\\20450\\AppData\\Local\\Programs\\Python\\Python310\\lib\\site-packages\\sklearn\\base.py:443: UserWarning: X has feature names, but BaggingClassifier was fitted without feature names\n",
      "  warnings.warn(\n"
     ]
    },
    {
     "name": "stdout",
     "output_type": "stream",
     "text": [
      "[0 0 1 0 0 0 0 1 0 0 0 1 0 0 0 0 0 0 0 0 0 0 0 0 0 0 1 0 0 0 0 0 0 0 1 0 0\n",
      " 0 0 0 1 0 1 0 0 0 0 0 0 0 0 0 0 0 0 1 0 0 1 0 0 1 0 0 0 0 1 0 0 0 1 0 1 0\n",
      " 0 0 0 1 0 0 1 1 0 0 1 1 0 0 1 0 0 0 0 0 0 0 1 0 0 0 1 0 0 1 0 1 0 0 0 0 0\n",
      " 1 0 1 0 0 1 0 0 0 0 1 0 0 0 0 0 0 1 0 0 0 0 0 0 0 1 0 0 0 0 0 0 0 1 0 0 1\n",
      " 1 1 0 0 0 0 0 0 0 0 1 1 1 1 0 0 0 1 1 0 0 1 0 0 0 0 0 0 0 0 0 0 1 0 0 0 0\n",
      " 0 0 0 0 1 0 0 0 0 0 0 0 0 0 0 0 0 0 0 0 1 0 0 0 1 1 0 1 0 0 0 0 0 1 0 0 0\n",
      " 0 0 1 0 0 0 0 1 0 0 1 0 0 1 1 0 0 0 0 0 0 0 1 0 0 0 0 0 0 0 0 0 0 0 0 0 0\n",
      " 0 0 0 0 0 1 1 0 0 1 0 0 0 0 0 0 1 0 1 0 0 0 0 1 0 0 0 1 0 0 0 0 0 0 0 0 0\n",
      " 0 0 0 1 0 0 1 0 0 1 0 0 0 1 0 0 0 0 0 0 0 0 1 0 0 0 0 0 0 1 0 0 0 0 0 0 0\n",
      " 0 0 0 1 0 0 0 0 0 0 0 0 0 0 0 0 0 1 0 0 0 0 0 1 1 0 0 0 0 0 0 0 0 0 0 0 0\n",
      " 0 0 1 0 0 1 0 0 0 0 1 1 0 0 0 1 0 0 1 0 0 0 0 0 0 0 0 0 0 1 0 0 0 0 0 0 0\n",
      " 0 0 1 1 0 0 0 0 0 0 0 0 0 0 0 0 1 0 0 0 0 0 0 0 0 0 0 0 0 0 0 0 0 0 0 0 0\n",
      " 1 0 0 0 0 0 0 1 0 1 0 1 0 0 0 0 0 0 0 1 0 0 1 0 0 0 0 0 0 1 0 0 0 0 0 0 0]\n",
      "BaggingClassifier 准确率= 0.817047817047817\n",
      "BaggingClassifier sensitivity= 0.8445945945945946\n",
      "BaggingClassifier specificity= 0.4864864864864865\n",
      "BaggingClassifier precision= 0.9517766497461929\n",
      "BaggingClassifier F1_score= 0.8949880668257757\n",
      "              precision    recall  f1-score   support\n",
      "\n",
      "           0       0.95      0.84      0.89       444\n",
      "           1       0.21      0.49      0.29        37\n",
      "\n",
      "    accuracy                           0.82       481\n",
      "   macro avg       0.58      0.67      0.59       481\n",
      "weighted avg       0.89      0.82      0.85       481\n",
      "\n"
     ]
    }
   ],
   "source": [
    "bag_clf=BaggingClassifier(SVC(),n_estimators=10,bootstrap=True,max_samples=0.5)\n",
    "\n",
    "bag_clf.fit(X_train,y_train)\n",
    "y_pred=bag_clf.predict(X_test)\n",
    "print(y_pred)\n",
    "\n",
    "cm = confusion_matrix(y_test, y_pred)\n",
    "TP = cm[0][0] \n",
    "FN = cm[0][1] \n",
    "FP = cm[1][0] \n",
    "TN = cm[1][1]\n",
    "acc = (TP + TN) / (TP + FN + FP + TN)\n",
    "print(bag_clf.__class__.__name__,'准确率=',acc)\n",
    "sensitivity = TP / (TP + FN)\n",
    "print(bag_clf.__class__.__name__,'sensitivity=',sensitivity)\n",
    "specificity = TN / (TN + FP)\n",
    "print(bag_clf.__class__.__name__,'specificity=',specificity)\n",
    "precision=TP/(TP+FP)\n",
    "print(bag_clf.__class__.__name__,'precision=',precision)\n",
    "F1_score=2*precision*sensitivity/(precision+sensitivity)\n",
    "print(bag_clf.__class__.__name__,'F1_score=',F1_score)\n",
    "print(classification_report(y_test,y_pred ))"
   ]
  },
  {
   "cell_type": "code",
   "execution_count": 57,
   "id": "aa851b61",
   "metadata": {},
   "outputs": [
    {
     "data": {
      "text/plain": [
       "<Figure size 640x480 with 0 Axes>"
      ]
     },
     "metadata": {},
     "output_type": "display_data"
    },
    {
     "data": {
      "image/png": "[encoded data removed]",
      "text/plain": [
       "<Figure size 500x500 with 1 Axes>"
      ]
     },
     "metadata": {},
     "output_type": "display_data"
    }
   ],
   "source": [
    "#ROC曲线\n",
    "# 计算\n",
    "fpr, tpr, thread = roc_curve(y_test, y_pred)\n",
    "roc_auc= auc(fpr, tpr)\n",
    "# 绘图\n",
    "plt.figure()\n",
    "lw = 2\n",
    "plt.figure(figsize=(5,5))\n",
    "plt.plot(fpr, tpr, color='darkorange',\n",
    "         lw=lw, label='ROC curve (area = %0.2f)' % roc_auc) ###假正率为横坐标，真正率为纵坐标做曲线\n",
    "plt.plot([0, 1], [0, 1], color='navy', lw=lw, linestyle='--')\n",
    "plt.xlim([0.0, 1.0])\n",
    "plt.ylim([0.0, 1.05])\n",
    "plt.xlabel('False Positive Rate')\n",
    "plt.ylabel('True Positive Rate')\n",
    "plt.title('credit_risk_small_data_bgsvm2')\n",
    "plt.legend(loc=\"lower right\")\n",
    "plt.show()"
   ]
  }
 ],
 "metadata": {
  "kernelspec": {
   "display_name": "Python 3 (ipykernel)",
   "language": "python",
   "name": "python3"
  },
  "language_info": {
   "codemirror_mode": {
    "name": "ipython",
    "version": 3
   },
   "file_extension": ".py",
   "mimetype": "text/x-python",
   "name": "python",
   "nbconvert_exporter": "python",
   "pygments_lexer": "ipython3",
   "version": "3.10.5"
  }
 },
 "nbformat": 4,
 "nbformat_minor": 5
}
